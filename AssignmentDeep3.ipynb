{
  "nbformat": 4,
  "nbformat_minor": 0,
  "metadata": {
    "colab": {
      "provenance": []
    },
    "kernelspec": {
      "name": "python3",
      "display_name": "Python 3"
    },
    "language_info": {
      "name": "python"
    }
  },
  "cells": [
    {
      "cell_type": "markdown",
      "source": [
        "**THEORY QUESTIONS**\n",
        "\n",
        "Q1) What is the difference between a function and a method in Python?\n",
        "\n",
        "\n",
        "==> A function is a standalone block of code that can be defined independently of any class or object.Functions are called directly by their name.\n",
        "A method is a function that is defined within a class.Methods are called on an object using dot notation.\n",
        "\n",
        "Q2) Explain the concept of function arguments and parameters in Python.\n",
        "\n",
        "==> Parameters are the placeholders or variables defined in the function's definition while Arguments are the actual values or expressions passed to a function when it is called.\n",
        "\n",
        "Q3) What are the different ways to define and call a function in Python?\n",
        "\n",
        "==> The Primary way to call a function in Pyhton is by using 'def' keyword.\n",
        "and some other ways to call functions in python are Using partial() from functools, Using getattr() etc.\n",
        "\n",
        "Q4) What is the purpose of the `return` statement in a Python function?\n",
        "\n",
        "==> the purpose of 'return' statement is to end the execution of the function and returns value back to the caller.\n",
        "\n",
        "Q5) What are iterators in Python and how do they differ from iterables?\n",
        "\n",
        "==> Iterable is any Python object/data structure that is capable of returning its member once at a time while Iterator is an oject representing a stream of data and return data one by one.\n",
        "\n",
        "Q6) Explain the concept of generators in Python and how they are defined.\n",
        "\n",
        "== Generator is a special type of function that produces a sequence of values on demand, rather than computing and storing them all at once.\n",
        "\n",
        "Q7) What are the advantages of using generators over regular functions?\n",
        "\n",
        "==> Generator doesn't return its values at once while regular functions returns all its values at once.\n",
        "\n",
        "Q8) What is a lambda function in Python and when is it typically used?\n",
        "\n",
        "==> In Python, Lambda is an anonyms function or or a short hand function, there is no need of return and def statement .Lambda is typically used in high order function.\n",
        "\n",
        "Q9) Explain the purpose and usage of the `map()` function in Python.\n",
        "\n",
        "==> The primary purpose of map() is to transform elements within an iterable by applying a specified function to each element. it take iterable as input.\n",
        "\n",
        "Q10) What is the difference between `map()`, `reduce()`, and `filter()` functions in Python?\n",
        "\n",
        "==> map function is used to transform elements within an iterable by applying a specified function to each element. reduce function is a way to combine or aggregate a sequence of elements into a single value by repeatedly applying a specified function to pairs of elements. filter function is used to filter elements from an iterable based on conditions.\n",
        "\n",
        "Q11) Using pen & Paper write the internal mechanism for sum operation using reduce function on this given\n",
        "list:[47,11,42,13];\n",
        "\n",
        "==> answer of this question is attached to this assignment as a jpeg file."
      ],
      "metadata": {
        "id": "Rrajy-XtfrWu"
      }
    },
    {
      "cell_type": "markdown",
      "source": [
        "***PRACTICAL QUESTIONS***"
      ],
      "metadata": {
        "id": "KZctBo4zf8Dm"
      }
    },
    {
      "cell_type": "markdown",
      "source": [
        "Q1) Write a Python function that takes a list of numbers as input and returns the sum of all even numbers in\n",
        "the list.\n"
      ],
      "metadata": {
        "id": "iIgROKdzqNAX"
      }
    },
    {
      "cell_type": "code",
      "source": [
        "def sum_of_even(x):\n",
        "  return sum(num for num in x if num % 2 == 0)\n",
        "\n",
        "my_list=[1,2,3,4,5]\n",
        "result=sum_of_even(my_list)\n",
        "print(result)\n"
      ],
      "metadata": {
        "id": "Ag4kV58EqTA0",
        "colab": {
          "base_uri": "https://localhost:8080/"
        },
        "outputId": "ee8f1672-2536-4c37-d927-fa43d71c32e5"
      },
      "execution_count": null,
      "outputs": [
        {
          "output_type": "stream",
          "name": "stdout",
          "text": [
            "6\n"
          ]
        }
      ]
    },
    {
      "cell_type": "markdown",
      "source": [
        "Q2) Create a Python function that accepts a string and returns the reverse of that string.\n",
        "\n"
      ],
      "metadata": {
        "id": "vr4mi5k9toU_"
      }
    },
    {
      "cell_type": "code",
      "source": [
        "def reverse_string(x):\n",
        "  return x[::-1]\n",
        "\n",
        "String=reverse_string(\"PW SKILLS\")\n",
        "print(\"Original String is :\",\"PW SKILLS\")\n",
        "print(\"Reversed String is :\",String)"
      ],
      "metadata": {
        "colab": {
          "base_uri": "https://localhost:8080/"
        },
        "id": "XI9OQlTYttNt",
        "outputId": "398111a1-7b69-4474-9a73-b34f6647a2c1"
      },
      "execution_count": null,
      "outputs": [
        {
          "output_type": "stream",
          "name": "stdout",
          "text": [
            "Original String is : PW SKILLS\n",
            "Reversed String is : SLLIKS WP\n"
          ]
        }
      ]
    },
    {
      "cell_type": "markdown",
      "source": [
        "Q3) Implement a Python function that takes a list of integers and returns a new list containing the squares of\n",
        "each number.\n"
      ],
      "metadata": {
        "id": "MEwqlN78xOgq"
      }
    },
    {
      "cell_type": "code",
      "source": [
        "def square_no(x):\n",
        "  l=[]\n",
        "  for i in x:\n",
        "    l.append(i**2)\n",
        "  return l\n",
        "print(\"List is [2,3,4,5]\")\n",
        "print(\"Squared List is\",square_no([2,3,4,5]))\n"
      ],
      "metadata": {
        "colab": {
          "base_uri": "https://localhost:8080/"
        },
        "id": "-wbLUYW_xToG",
        "outputId": "63cf64b2-bb5d-4faa-aa6e-7df3365a6aa7"
      },
      "execution_count": null,
      "outputs": [
        {
          "output_type": "stream",
          "name": "stdout",
          "text": [
            "List is [2,3,4,5]\n",
            "Squared List is [4, 9, 16, 25]\n"
          ]
        }
      ]
    },
    {
      "cell_type": "markdown",
      "source": [
        "Q4) Write a Python function that checks if a given number is prime or not from 1 to 200.\n",
        "\n"
      ],
      "metadata": {
        "id": "iJzOrmT7yd5E"
      }
    },
    {
      "cell_type": "code",
      "source": [
        "def is_prime(n):\n",
        "    if n < 2:\n",
        "        return False\n",
        "    for i in range(2, int(n ** 0.5) + 1):\n",
        "        if n % i == 0:\n",
        "            return False\n",
        "    return True\n",
        "\n",
        "# Check and print primes from 1 to 200\n",
        "for i in range(1, 201):\n",
        "    if is_prime(i):\n",
        "        print(\"Prime number between 1 to 200 is \",i)"
      ],
      "metadata": {
        "id": "48UZvBKWywge",
        "colab": {
          "base_uri": "https://localhost:8080/"
        },
        "outputId": "6265b56c-0e0a-4c17-efb8-4e3237301d2d"
      },
      "execution_count": null,
      "outputs": [
        {
          "output_type": "stream",
          "name": "stdout",
          "text": [
            "Prime number between 1 to 200 is  2\n",
            "Prime number between 1 to 200 is  3\n",
            "Prime number between 1 to 200 is  5\n",
            "Prime number between 1 to 200 is  7\n",
            "Prime number between 1 to 200 is  11\n",
            "Prime number between 1 to 200 is  13\n",
            "Prime number between 1 to 200 is  17\n",
            "Prime number between 1 to 200 is  19\n",
            "Prime number between 1 to 200 is  23\n",
            "Prime number between 1 to 200 is  29\n",
            "Prime number between 1 to 200 is  31\n",
            "Prime number between 1 to 200 is  37\n",
            "Prime number between 1 to 200 is  41\n",
            "Prime number between 1 to 200 is  43\n",
            "Prime number between 1 to 200 is  47\n",
            "Prime number between 1 to 200 is  53\n",
            "Prime number between 1 to 200 is  59\n",
            "Prime number between 1 to 200 is  61\n",
            "Prime number between 1 to 200 is  67\n",
            "Prime number between 1 to 200 is  71\n",
            "Prime number between 1 to 200 is  73\n",
            "Prime number between 1 to 200 is  79\n",
            "Prime number between 1 to 200 is  83\n",
            "Prime number between 1 to 200 is  89\n",
            "Prime number between 1 to 200 is  97\n",
            "Prime number between 1 to 200 is  101\n",
            "Prime number between 1 to 200 is  103\n",
            "Prime number between 1 to 200 is  107\n",
            "Prime number between 1 to 200 is  109\n",
            "Prime number between 1 to 200 is  113\n",
            "Prime number between 1 to 200 is  127\n",
            "Prime number between 1 to 200 is  131\n",
            "Prime number between 1 to 200 is  137\n",
            "Prime number between 1 to 200 is  139\n",
            "Prime number between 1 to 200 is  149\n",
            "Prime number between 1 to 200 is  151\n",
            "Prime number between 1 to 200 is  157\n",
            "Prime number between 1 to 200 is  163\n",
            "Prime number between 1 to 200 is  167\n",
            "Prime number between 1 to 200 is  173\n",
            "Prime number between 1 to 200 is  179\n",
            "Prime number between 1 to 200 is  181\n",
            "Prime number between 1 to 200 is  191\n",
            "Prime number between 1 to 200 is  193\n",
            "Prime number between 1 to 200 is  197\n",
            "Prime number between 1 to 200 is  199\n"
          ]
        }
      ]
    },
    {
      "cell_type": "markdown",
      "source": [
        "Q5) Create an iterator class in Python that generates the Fibonacci sequence up to a specified number of\n",
        "terms.\n"
      ],
      "metadata": {
        "id": "ncvk2gvTRxK-"
      }
    },
    {
      "cell_type": "code",
      "source": [
        "class Fibonacci:\n",
        "    def __iter__(self):\n",
        "        self.a = 0\n",
        "        self.b = 1\n",
        "        self.count = 0\n",
        "        self.max_terms = 10  # You can change this number\n",
        "        return self\n",
        "\n",
        "    def __next__(self):\n",
        "        if self.count >= self.max_terms:\n",
        "            raise StopIteration\n",
        "        if self.count == 0:\n",
        "            self.count += 1\n",
        "            return 0\n",
        "        elif self.count == 1:\n",
        "            self.count += 1\n",
        "            return 1\n",
        "        else:\n",
        "            self.a, self.b = self.b, self.a + self.b\n",
        "            self.count += 1\n",
        "            return self.a\n",
        "\n",
        "    for num in Fibonacci():\n",
        "      print(num, end=' ')"
      ],
      "metadata": {
        "colab": {
          "base_uri": "https://localhost:8080/"
        },
        "id": "nJVK21fMSKTC",
        "outputId": "2f3cfe8e-ecc5-4f86-e0a4-eb42f58e9660"
      },
      "execution_count": null,
      "outputs": [
        {
          "output_type": "stream",
          "name": "stdout",
          "text": [
            "0 1 1 1 2 3 5 8 13 21 "
          ]
        }
      ]
    },
    {
      "cell_type": "markdown",
      "source": [
        "Q6) Write a generator function in Python that yields the powers of 2 up to a given exponent.\n"
      ],
      "metadata": {
        "id": "sV6elWsxa_V6"
      }
    },
    {
      "cell_type": "code",
      "source": [
        "def powers_of_two(n):\n",
        "    for i in range(n + 1):\n",
        "        yield 2 ** i\n",
        "\n",
        "#  usage\n",
        "for num in powers_of_two(5):\n",
        "    print(num)"
      ],
      "metadata": {
        "colab": {
          "base_uri": "https://localhost:8080/"
        },
        "id": "KtAaLr8UbHtI",
        "outputId": "4705ca22-4b7a-4c56-de94-4893a3756460"
      },
      "execution_count": null,
      "outputs": [
        {
          "output_type": "stream",
          "name": "stdout",
          "text": [
            "1\n",
            "2\n",
            "4\n",
            "8\n",
            "16\n",
            "32\n"
          ]
        }
      ]
    },
    {
      "cell_type": "markdown",
      "source": [
        "Q7) Implement a generator function that reads a file line by line and yields each line as a string"
      ],
      "metadata": {
        "id": "BWRYuMoBVIkR"
      }
    },
    {
      "cell_type": "code",
      "source": [
        "#implement a generator function that reads a file line by line and yields each line as a string\n",
        "\n",
        "# Create a dummy file for demonstration\n",
        "with open(\"dummy_file.txt\", \"w\") as file:\n",
        "    file.write(\"Line 1\\n\")\n",
        "    file.write(\"Line 2\\n\")\n",
        "    file.write(\"Line 3\\n\")\n",
        "\n",
        "    # Function to read and yield lines from the file\n",
        "def read_lines(file_path):\n",
        "    with open(file_path, \"r\") as file:\n",
        "        for line in file:\n",
        "            yield line.strip()\n",
        "\n",
        "for line in read_lines(\"dummy_file.txt\"):\n",
        "    print(line)"
      ],
      "metadata": {
        "id": "Kugk8d9LVHPy",
        "colab": {
          "base_uri": "https://localhost:8080/"
        },
        "outputId": "3b9d4258-9bbd-43ab-8977-253a579ccc1b"
      },
      "execution_count": null,
      "outputs": [
        {
          "output_type": "stream",
          "name": "stdout",
          "text": [
            "Line 1\n",
            "Line 2\n",
            "Line 3\n"
          ]
        }
      ]
    },
    {
      "cell_type": "markdown",
      "source": [
        "Q8) use a lambda function in Python to sort a list of tuples based on the second element of each tuple.\n"
      ],
      "metadata": {
        "id": "LYH-pBccYHBv"
      }
    },
    {
      "cell_type": "code",
      "source": [
        "data = [(1, 5), (3, 1), (2, 8), (4, 0)]\n",
        "\n",
        "# Sort by second element using lambda\n",
        "sorted_data = sorted(data, key=lambda x: x[1])\n",
        "\n",
        "print(sorted_data)"
      ],
      "metadata": {
        "colab": {
          "base_uri": "https://localhost:8080/"
        },
        "id": "HjJ9uap8YSFk",
        "outputId": "c37fb329-e8a0-4edd-9492-06a2c35089a2"
      },
      "execution_count": null,
      "outputs": [
        {
          "output_type": "stream",
          "name": "stdout",
          "text": [
            "[(4, 0), (3, 1), (1, 5), (2, 8)]\n"
          ]
        }
      ]
    },
    {
      "cell_type": "markdown",
      "source": [
        "Q9) Write a Python program that uses `map()` to convert a list of temperatures from Celsius to Fahrenheit.\n"
      ],
      "metadata": {
        "id": "319MtRzZY3Mg"
      }
    },
    {
      "cell_type": "code",
      "source": [
        "# List of temperatures in Celsius\n",
        "celsius = [0, 20, 37, 100]\n",
        "\n",
        "# Convert to Fahrenheit using map and lambda\n",
        "fahrenheit = list(map(lambda c: (c * 9/5) + 32, celsius))\n",
        "\n",
        "# Print the result\n",
        "print(\"Celcius :\",celsius)\n",
        "print(\"Fahrenheit:\", fahrenheit)"
      ],
      "metadata": {
        "colab": {
          "base_uri": "https://localhost:8080/"
        },
        "id": "5tWYRe92ZFuW",
        "outputId": "cb53d121-e485-4c84-b457-60c51bb001a6"
      },
      "execution_count": null,
      "outputs": [
        {
          "output_type": "stream",
          "name": "stdout",
          "text": [
            "Celcius : [0, 20, 37, 100]\n",
            "Fahrenheit: [32.0, 68.0, 98.6, 212.0]\n"
          ]
        }
      ]
    },
    {
      "cell_type": "markdown",
      "source": [
        "Q10) Create a Python program that uses `filter()` to remove all the vowels from a given string.\n",
        "\n"
      ],
      "metadata": {
        "id": "WMprbsvEZhDA"
      }
    },
    {
      "cell_type": "code",
      "source": [
        "text = \"Hello World, Python is Fun!\"\n",
        "\n",
        "# Define vowels\n",
        "vowels = 'aeiouAEIOU'\n",
        "\n",
        "# Use filter to remove vowels\n",
        "result = ''.join(filter(lambda x: x not in vowels, text))\n",
        "\n",
        "# Print the result\n",
        "print(\"Original text:\", text)\n",
        "print(\"Without vowels:\", result)"
      ],
      "metadata": {
        "colab": {
          "base_uri": "https://localhost:8080/"
        },
        "id": "_BdAH0n1Zop7",
        "outputId": "17f8c70a-e911-422b-e36e-5695057f9ed5"
      },
      "execution_count": null,
      "outputs": [
        {
          "output_type": "stream",
          "name": "stdout",
          "text": [
            "Original text: Hello World, Python is Fun!\n",
            "Without vowels: Hll Wrld, Pythn s Fn!\n"
          ]
        }
      ]
    },
    {
      "cell_type": "markdown",
      "source": [
        "Q11) Imagine an accounting routine used in a book shop. It works on a list with sublists, which look like this:\n",
        "\n",
        "\n",
        "Write a Python program, which returns a list with 2-tuples. Each tuple consists of the order number and the\n",
        "product of the price per item and the quantity. The product should be increased by 10,- € if the value of the\n",
        "order is smaller than 100,00 €.\n",
        "\n",
        "Write a Python program using lambda and map.\n",
        "\n"
      ],
      "metadata": {
        "id": "ZWCAJudDZ6-I"
      }
    },
    {
      "cell_type": "code",
      "source": [
        "orders = [\n",
        "    [34587, \"Learning Python, Mark Lutz\", 4, 40.95],\n",
        "    [98762, \"Programming Python, Mark Lutz\", 5, 56.80],\n",
        "    [77226, \"Head First Python, Paul Barry\", 3, 32.95],\n",
        "    [88112, \"Einführung in Python3, Bernd Klein\", 3, 24.99]\n",
        "]\n",
        "\n",
        "result = list(map(lambda order:\n",
        "                    (order[0] , order[2] * order[3] if order[2] * order[3] >= 100 else order[2] * order[3] + 10),\n",
        "                orders))\n",
        "\n",
        "\n",
        "# Print the result\n",
        "print(result)"
      ],
      "metadata": {
        "id": "gwigmliKaPdx",
        "colab": {
          "base_uri": "https://localhost:8080/"
        },
        "outputId": "29b5ebbb-5433-4bf5-c99f-29a2de36d184"
      },
      "execution_count": null,
      "outputs": [
        {
          "output_type": "stream",
          "name": "stdout",
          "text": [
            "[(34587, 163.8), (98762, 284.0), (77226, 108.85000000000001), (88112, 84.97)]\n"
          ]
        }
      ]
    },
    {
      "cell_type": "markdown",
      "source": [
        "***FINISH***"
      ],
      "metadata": {
        "id": "NBnL7bBtIMau"
      }
    }
  ]
}